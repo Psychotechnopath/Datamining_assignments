{
  "nbformat": 4,
  "nbformat_minor": 0,
  "metadata": {
    "accelerator": "GPU",
    "colab": {
      "name": "Copy of Welcome To Colab",
      "provenance": [],
      "collapsed_sections": [],
      "machine_shape": "hm"
    },
    "kernelspec": {
      "display_name": "Python 3",
      "name": "python3"
    }
  },
  "cells": [
    {
      "cell_type": "markdown",
      "metadata": {
        "colab_type": "text",
        "id": "24HBSUWp4EZc"
      },
      "source": [
        "**Street View**"
      ]
    },
    {
      "cell_type": "code",
      "metadata": {
        "id": "UKBN8ZUa3_v3",
        "colab_type": "code",
        "colab": {}
      },
      "source": [
        "# import packages\n",
        "#import openml as oml\n",
        "from sklearn.neighbors import KNeighborsClassifier\n",
        "from sklearn.linear_model import LogisticRegression\n",
        "from sklearn.svm import LinearSVC\n",
        "from sklearn.model_selection import train_test_split, cross_validate \n",
        "import numpy as np\n",
        "import pandas as pd\n",
        "import time\n",
        "from sklearn.decomposition import PCA\n",
        "from sklearn.pipeline import Pipeline\n",
        "from sklearn.model_selection import GridSearchCV\n",
        "from sklearn.metrics import classification_report\n",
        "from matplotlib import pyplot as plt"
      ],
      "execution_count": 0,
      "outputs": []
    },
    {
      "cell_type": "markdown",
      "metadata": {
        "id": "J8jd7IDWvSpS",
        "colab_type": "text"
      },
      "source": [
        "## 1. Evaluate different models (15 points)"
      ]
    },
    {
      "cell_type": "code",
      "metadata": {
        "id": "y7pFH-bYvRcr",
        "colab_type": "code",
        "outputId": "c94ffd98-469d-41c5-b161-57f54034506f",
        "colab": {
          "base_uri": "https://localhost:8080/",
          "height": 573
        }
      },
      "source": [
        "#Take a stratified 10% subsample of the data. \n",
        "#Plot the distribution of the classes (as a histogram) for both the original data and the subsample.\n",
        "\n",
        "#Use train_test_split in a \"clever\" way to generate 10% stratified sub-sample:\n",
        "X_90_percent, X_10_percent, y_90_percent, y_10_percent = train_test_split(X, y, test_size=0.1, stratify=y) \n",
        "\n",
        "\n",
        "plt.hist(y_10_percent, bins=10, histtype='bar', edgecolor='black')         #Histogram of Sub-sample\n",
        "plt.title(\"Distribution of sub-sample y\")\n",
        "plt.xlabel(\"Different classes (0-9, 0 is coded as 10, 1 is coded as 1) \")\n",
        "plt.ylabel(\"Count\")\n",
        "plt.show();\n",
        "\n",
        "plt.hist(y, bins=10, histtype='bar', edgecolor='black')                    #Histogram of original data\n",
        "plt.title(\"Distribution of y (full dataset)\")\n",
        "plt.xlabel(\"Different classes (0-9, 0 is coded as 10, 1 is coded as 1) \")\n",
        "plt.ylabel(\"Count\")\n",
        "plt.show();"
      ],
      "execution_count": 0,
      "outputs": [
        {
          "output_type": "display_data",
          "data": {
            "image/png": "[encoded data removed]",
            "text/plain": [
              "<Figure size 432x288 with 1 Axes>"
            ]
          },
          "metadata": {
            "tags": []
          }
        },
        {
          "output_type": "display_data",
          "data": {
            "image/png": "[encoded data removed]",
            "text/plain": [
              "<Figure size 432x288 with 1 Axes>"
            ]
          },
          "metadata": {
            "tags": []
          }
        }
      ]
    },
    {
      "cell_type": "code",
      "metadata": {
        "id": "Q-o5Qsayvc61",
        "colab_type": "code",
        "outputId": "0c028a0f-c9fc-42a1-e3e4-940e7a34ebe5",
        "colab": {
          "base_uri": "https://localhost:8080/",
          "height": 85
        }
      },
      "source": [
        "#Evaluate k-Nearest Neighbors, using default hyperparameter settings. Use cross-validation with 3 folds, \n",
        "#output the training accuracy and test accuracy including the standard deviations\n",
        "\n",
        "#Initialize default knn classifier\n",
        "knn = KNeighborsClassifier()\n",
        "\n",
        "#Use cross_validate with regular CV (As sample is already stratified, and we were not asked to use StratifiedKfold)\n",
        "scores = cross_validate(knn, X_10_percent, y_10_percent, cv=3, scoring=['accuracy'], return_train_score=True)\n",
        "\n",
        "#Report training accuracy + std, testing accuracy + std\n",
        "print(\"Training accuracy of models {}\".format(scores['train_accuracy']))            #Training accuracy for 3 folds: [0.56695889 0.566853   0.57104031] \n",
        "print(\"Standard deviation of training accuracies are {}\".format(scores['train_accuracy'].std())) #std over 3 folds: 0.001949440450662831\n",
        "print(\"Testing accuracy of models {}\".format(scores['test_accuracy']))               #Testing accuracy for 3 folds: [0.35194688 0.34833837 0.34361766]\n",
        "print(\"Standard deviation of Training accuracies {}\".format(scores['test_accuracy'].std()))      #std over 3 folds: 0.0034104761232712894"
      ],
      "execution_count": 0,
      "outputs": [
        {
          "output_type": "stream",
          "text": [
            "Training accuracy of models [0.56151753 0.5531047  0.55654537]\n",
            "Standard deviation of training accuracies are 0.0034534428458641167\n",
            "Testing accuracy of models [0.34349532 0.33927492 0.35148215]\n",
            "Standard deviation of Training accuracies 0.005062033888471301\n"
          ],
          "name": "stdout"
        }
      ]
    },
    {
      "cell_type": "code",
      "metadata": {
        "id": "aQkKcDGovhVu",
        "colab_type": "code",
        "outputId": "2e0aefc1-63df-4478-e11d-41d592076a4d",
        "colab": {
          "base_uri": "https://localhost:8080/",
          "height": 411
        }
      },
      "source": [
        "#Evaluate Logistic regression, using default hyperparameter settings. Use cross-validation with 3 folds, \n",
        "#output the training accuracy and test accuracy including the standard deviations\n",
        "\n",
        "#Initialize default logistic regression \n",
        "#(it infers that we are using a multi-classifying problem instead of binary, as multi-class is set to auto by default)\n",
        "logisticReg = LogisticRegression()\n",
        "\n",
        "#Use cross_validate with regular CV (As sample is already stratified, and we were not asked to use StratifiedKfold)\n",
        "scores = cross_validate(logisticReg, X_10_percent, y_10_percent, cv=3, scoring=['accuracy'], return_train_score=True)\n",
        "\n",
        "#Report training accuracy + std, testing accuracy + std\n",
        "print(\"Training accuracy of models {}\".format(scores['train_accuracy']))            #Training accuracy for 3 folds: [0.75226723 0.74935791 0.73622226] \n",
        "print(\"Standard deviation of training accuracies are {}\".format(scores['train_accuracy'].std())) #std over 3 folds: 0.006979738688354459\n",
        "print(\"Testing accuracy of models {}\".format(scores['test_accuracy']))               #Testing accuracy for 3 folds: [0.16752188 0.16616314 0.17906836]\n",
        "print(\"Standard deviation of Training accuracies {}\".format(scores['test_accuracy'].std()))      #std over 3 folds: 0.00578995276573481"
      ],
      "execution_count": 0,
      "outputs": [
        {
          "output_type": "stream",
          "text": [
            "/usr/local/lib/python3.6/dist-packages/sklearn/linear_model/logistic.py:432: FutureWarning: Default solver will be changed to 'lbfgs' in 0.22. Specify a solver to silence this warning.\n",
            "  FutureWarning)\n",
            "/usr/local/lib/python3.6/dist-packages/sklearn/linear_model/logistic.py:469: FutureWarning: Default multi_class will be changed to 'auto' in 0.22. Specify the multi_class option to silence this warning.\n",
            "  \"this warning.\", FutureWarning)\n",
            "/usr/local/lib/python3.6/dist-packages/sklearn/svm/base.py:929: ConvergenceWarning: Liblinear failed to converge, increase the number of iterations.\n",
            "  \"the number of iterations.\", ConvergenceWarning)\n",
            "/usr/local/lib/python3.6/dist-packages/sklearn/linear_model/logistic.py:432: FutureWarning: Default solver will be changed to 'lbfgs' in 0.22. Specify a solver to silence this warning.\n",
            "  FutureWarning)\n",
            "/usr/local/lib/python3.6/dist-packages/sklearn/linear_model/logistic.py:469: FutureWarning: Default multi_class will be changed to 'auto' in 0.22. Specify the multi_class option to silence this warning.\n",
            "  \"this warning.\", FutureWarning)\n",
            "/usr/local/lib/python3.6/dist-packages/sklearn/svm/base.py:929: ConvergenceWarning: Liblinear failed to converge, increase the number of iterations.\n",
            "  \"the number of iterations.\", ConvergenceWarning)\n",
            "/usr/local/lib/python3.6/dist-packages/sklearn/linear_model/logistic.py:432: FutureWarning: Default solver will be changed to 'lbfgs' in 0.22. Specify a solver to silence this warning.\n",
            "  FutureWarning)\n",
            "/usr/local/lib/python3.6/dist-packages/sklearn/linear_model/logistic.py:469: FutureWarning: Default multi_class will be changed to 'auto' in 0.22. Specify the multi_class option to silence this warning.\n",
            "  \"this warning.\", FutureWarning)\n"
          ],
          "name": "stderr"
        },
        {
          "output_type": "stream",
          "text": [
            "Training accuracy of models [0.73473398 0.74074634 0.76506115]\n",
            "Standard deviation of training accuracies are 0.013111047167566734\n",
            "Testing accuracy of models [0.15725928 0.16344411 0.15668482]\n",
            "Standard deviation of Training accuracies 0.0030599590356461034\n"
          ],
          "name": "stdout"
        },
        {
          "output_type": "stream",
          "text": [
            "/usr/local/lib/python3.6/dist-packages/sklearn/svm/base.py:929: ConvergenceWarning: Liblinear failed to converge, increase the number of iterations.\n",
            "  \"the number of iterations.\", ConvergenceWarning)\n"
          ],
          "name": "stderr"
        }
      ]
    },
    {
      "cell_type": "code",
      "metadata": {
        "id": "EkrUHXwOvoxg",
        "colab_type": "code",
        "outputId": "04749aae-569a-4fb3-9cb6-6d5f733daa93",
        "colab": {
          "base_uri": "https://localhost:8080/",
          "height": 187
        }
      },
      "source": [
        "#Evaluate Linear SVM, using default hyperparameter settings. Use cross-validation with 3 folds, \n",
        "#output the training accuracy and test accuracy including the standard deviations\n",
        "\n",
        "#Initialize default linear support vector machine\n",
        "svc = LinearSVC()\n",
        "\n",
        "#Use cross_validate with regular CV (As sample is already stratified, and we were not asked to use StratifiedKfold)\n",
        "scores = cross_validate(svc, X_10_percent, y_10_percent, cv=3, scoring=['accuracy'], return_train_score=True)\n",
        "\n",
        "#Report training accuracy + std, testing accuracy + std\n",
        "print(\"Training accuracy of models {}\".format(scores['train_accuracy']))            #Training accuracy for 3 folds: [0.2028416  0.22541169 0.41869244]\n",
        "print(\"Standard deviation of training accuracies are {}\".format(scores['train_accuracy'].std())) #std over 3 folds: 0.09687244723712729\n",
        "print(\"Testing accuracy of models {}\".format(scores['test_accuracy']))               #Testing accuracy for 3 folds: [0.14941141 0.19365559 0.16333938]\n",
        "print(\"Standard deviation of Training accuracies {}\".format(scores['test_accuracy'].std()))      #std over 3 folds: 0.018471023013982568"
      ],
      "execution_count": 0,
      "outputs": [
        {
          "output_type": "stream",
          "text": [
            "/usr/local/lib/python3.6/dist-packages/sklearn/svm/base.py:929: ConvergenceWarning: Liblinear failed to converge, increase the number of iterations.\n",
            "  \"the number of iterations.\", ConvergenceWarning)\n",
            "/usr/local/lib/python3.6/dist-packages/sklearn/svm/base.py:929: ConvergenceWarning: Liblinear failed to converge, increase the number of iterations.\n",
            "  \"the number of iterations.\", ConvergenceWarning)\n"
          ],
          "name": "stderr"
        },
        {
          "output_type": "stream",
          "text": [
            "Training accuracy of models [0.25483676 0.28750567 0.3410841 ]\n",
            "Standard deviation of training accuracies are 0.03555357471789143\n",
            "Testing accuracy of models [0.19740417 0.14410876 0.12220206]\n",
            "Standard deviation of Training accuracies 0.0315799882585887\n"
          ],
          "name": "stdout"
        },
        {
          "output_type": "stream",
          "text": [
            "/usr/local/lib/python3.6/dist-packages/sklearn/svm/base.py:929: ConvergenceWarning: Liblinear failed to converge, increase the number of iterations.\n",
            "  \"the number of iterations.\", ConvergenceWarning)\n"
          ],
          "name": "stderr"
        }
      ]
    },
    {
      "cell_type": "markdown",
      "metadata": {
        "id": "uwX9chO9wAv4",
        "colab_type": "text"
      },
      "source": [
        "## 2. Learning curves (20 points)"
      ]
    },
    {
      "cell_type": "code",
      "metadata": {
        "id": "3zOzZ3tg0Zd-",
        "colab_type": "code",
        "colab": {}
      },
      "source": [
        "import pandas as pd\n",
        "# Import Dataset\n",
        "streetview_data = pd.read_csv('https://www.openml.org/data/get_csv/19326077/svhn.csv')\n",
        "\n",
        "# Separate the data with features and label\n",
        "X = streetview_data.iloc[:,:-1].values # selecting all the records from all the fields except last field\n",
        "y = streetview_data.iloc[:,3072].values # Selecting all the records from last fieldr"
      ],
      "execution_count": 0,
      "outputs": []
    },
    {
      "cell_type": "code",
      "metadata": {
        "id": "eS-DA-ZNuYKG",
        "colab_type": "code",
        "outputId": "6117e193-7dfc-483f-a838-14ff1074438c",
        "colab": {
          "base_uri": "https://localhost:8080/",
          "height": 519
        }
      },
      "source": [
        "#Evaluate Logistic regression, using default hyperparameter settings. \n",
        "#Use cross-validation with 3 folds, output the training accuracy and test accuracy including the standard deviations\n",
        "\n",
        "X_90_percent, X_10_percent, y_90_percent, y_10_percent = train_test_split(X, y, test_size=0.1, stratify=y, random_state=47)\n",
        "\n",
        "logisticReg = LogisticRegression()\n",
        "\n",
        "test_accuracy_list = []\n",
        "test_accuracy_std_list = []\n",
        "time_execution_list = []\n",
        "training_percentages = [1,2,3,4,5,6,7,8,9,10]\n",
        "\n",
        "for i in range(1,11):\n",
        "    start = time.time()\n",
        "    scores = cross_validate(logisticReg, X_10_percent[:i*992], y_10_percent[0:i*992], cv=3, scoring=['accuracy'], n_jobs=-1)\n",
        "    test_accuracy_list.append(scores['test_accuracy'])\n",
        "    test_accuracy_std_list.append(scores['test_accuracy'].std())\n",
        "    stop = time.time()\n",
        "    duration = start-stop\n",
        "    time_execution_list.append(duration)\n",
        "    print(\"Training complete on {}% subsample of data\".format(i))\n",
        "\n",
        "\n",
        "plt.subplot(2,1,1)\n",
        "plt.plot(training_percentages, test_accuracy_list, '-o')\n",
        "plt.title('Testing accuracy and training times plot')\n",
        "plt.xlabel(\"Percentage of data used\")\n",
        "plt.ylabel(\"Testing accuracy\")\n",
        "\n",
        "plt.subplot(2,1,2)\n",
        "plt.plot(training_percentages,time_execution_list , '-o')\n",
        "plt.xlabel(\"Percentage of data used\")\n",
        "plt.ylabel(\"Execution time in seconds\")\n",
        "plt.show()"
      ],
      "execution_count": 0,
      "outputs": [
        {
          "output_type": "stream",
          "text": [
            "Training complete on 1% subsample of data\n",
            "Training complete on 2% subsample of data\n",
            "Training complete on 3% subsample of data\n",
            "Training complete on 4% subsample of data\n",
            "Training complete on 5% subsample of data\n",
            "Training complete on 6% subsample of data\n",
            "Training complete on 7% subsample of data\n",
            "Training complete on 8% subsample of data\n"
          ],
          "name": "stdout"
        },
        {
          "output_type": "stream",
          "text": [
            "/usr/local/lib/python3.6/dist-packages/joblib/externals/loky/process_executor.py:706: UserWarning: A worker stopped while some jobs were given to the executor. This can be caused by a too short worker timeout or by a memory leak.\n",
            "  \"timeout or by a memory leak.\", UserWarning\n"
          ],
          "name": "stderr"
        },
        {
          "output_type": "stream",
          "text": [
            "Training complete on 9% subsample of data\n",
            "Training complete on 10% subsample of data\n"
          ],
          "name": "stdout"
        },
        {
          "output_type": "display_data",
          "data": {
            "image/png": "[encoded data removed]",
            "text/plain": [
              "<Figure size 432x288 with 2 Axes>"
            ]
          },
          "metadata": {
            "tags": []
          }
        }
      ]
    },
    {
      "cell_type": "code",
      "metadata": {
        "id": "jxCOFEbmtn78",
        "colab_type": "code",
        "outputId": "2146c951-aa81-4187-e868-73d3a0011886",
        "colab": {
          "base_uri": "https://localhost:8080/",
          "height": 519
        }
      },
      "source": [
        "#Evaluate k-Nearest Neighbors, using default hyperparameter settings. Use cross-validation with 3 folds, \n",
        "#output the training accuracy and test accuracy including the standard deviations\n",
        "\n",
        "knn = KNeighborsClassifier()\n",
        "test_accuracy_list = []\n",
        "test_accuracy_std_list = []\n",
        "time_execution_list = []\n",
        "training_percentages = [1,2,3,4,5,6,7,8,9,10]\n",
        "\n",
        "for i in range(1,11):\n",
        "    start = time.time()\n",
        "    scores = cross_validate(knn, X_10_percent[:i*992], y_10_percent[0:i*992], cv=3, scoring=['accuracy'], n_jobs=-1)\n",
        "    test_accuracy_list.append(scores['test_accuracy'])\n",
        "    test_accuracy_std_list.append(scores['test_accuracy'].std())\n",
        "    stop = time.time()\n",
        "    duration = start-stop\n",
        "    time_execution_list.append(duration)\n",
        "    print(\"Training complete on {}% subsample of data\".format(i))\n",
        "\n",
        "\n",
        "plt.subplot(2,1,1)\n",
        "plt.plot(training_percentages, test_accuracy_list, '-o')\n",
        "plt.title('Testing accuracy and training times plot')\n",
        "plt.xlabel(\"Percentage of data used\")\n",
        "plt.ylabel(\"Testing accuracy\")\n",
        "\n",
        "plt.subplot(2,1,2)\n",
        "plt.plot(training_percentages,time_execution_list , '-o')\n",
        "plt.xlabel(\"Percentage of data used\")\n",
        "plt.ylabel(\"Execution time in seconds\")\n",
        "plt.show()"
      ],
      "execution_count": 0,
      "outputs": [
        {
          "output_type": "stream",
          "text": [
            "Training complete on 1% subsample of data\n",
            "Training complete on 2% subsample of data\n",
            "Training complete on 3% subsample of data\n",
            "Training complete on 4% subsample of data\n",
            "Training complete on 5% subsample of data\n",
            "Training complete on 6% subsample of data\n",
            "Training complete on 7% subsample of data\n",
            "Training complete on 8% subsample of data\n",
            "Training complete on 9% subsample of data\n"
          ],
          "name": "stdout"
        },
        {
          "output_type": "stream",
          "text": [
            "/usr/local/lib/python3.6/dist-packages/joblib/externals/loky/process_executor.py:706: UserWarning: A worker stopped while some jobs were given to the executor. This can be caused by a too short worker timeout or by a memory leak.\n",
            "  \"timeout or by a memory leak.\", UserWarning\n"
          ],
          "name": "stderr"
        },
        {
          "output_type": "stream",
          "text": [
            "Training complete on 10% subsample of data\n"
          ],
          "name": "stdout"
        },
        {
          "output_type": "display_data",
          "data": {
            "image/png": "[encoded data removed]",
            "text/plain": [
              "<Figure size 432x288 with 2 Axes>"
            ]
          },
          "metadata": {
            "tags": []
          }
        }
      ]
    },
    {
      "cell_type": "code",
      "metadata": {
        "id": "N8VVSIRMyXPE",
        "colab_type": "code",
        "outputId": "8d24867e-2b80-4f4f-f44a-158ee3a26307",
        "colab": {
          "base_uri": "https://localhost:8080/",
          "height": 519
        }
      },
      "source": [
        "#Evaluate Linear SVM, using default hyperparameter settings. Use cross-validation with 3 folds, \n",
        "#output the training accuracy and test accuracy including the standard deviations\n",
        "\n",
        "X_90_percent, X_10_percent, y_90_percent, y_10_percent = train_test_split(X, y, test_size=0.1, stratify=y, random_state=47)\n",
        "\n",
        "\n",
        "svc = LinearSVC()\n",
        "\n",
        "test_accuracy_list = []\n",
        "test_accuracy_std_list = []\n",
        "time_execution_list = []\n",
        "training_percentages = [1,2,3,4,5,6,7,8,9,10]\n",
        "\n",
        "for i in range(1,11):\n",
        "    start = time.time()\n",
        "    scores = cross_validate(svc, X_10_percent[:i*992], y_10_percent[0:i*992], cv=3, scoring=['accuracy'], n_jobs=-1)\n",
        "    test_accuracy_list.append(scores['test_accuracy'])\n",
        "    test_accuracy_std_list.append(scores['test_accuracy'].std())\n",
        "    stop = time.time()\n",
        "    duration = start-stop\n",
        "    time_execution_list.append(duration)\n",
        "    print(\"Training complete on {}% subsample of data\".format(i))\n",
        "\n",
        "\n",
        "plt.subplot(2,1,1)\n",
        "plt.plot(training_percentages, test_accuracy_list, '-o')\n",
        "plt.title('Testing accuracy and training times plot')\n",
        "plt.xlabel(\"Percentage of data used\")\n",
        "plt.ylabel(\"Testing accuracy\")\n",
        "\n",
        "plt.subplot(2,1,2)\n",
        "plt.plot(training_percentages,time_execution_list , '-o')\n",
        "plt.xlabel(\"Percentage of data used\")\n",
        "plt.ylabel(\"Execution time in seconds\")\n",
        "plt.show()"
      ],
      "execution_count": 0,
      "outputs": [
        {
          "output_type": "stream",
          "text": [
            "Training complete on 1% subsample of data\n",
            "Training complete on 2% subsample of data\n",
            "Training complete on 3% subsample of data\n",
            "Training complete on 4% subsample of data\n",
            "Training complete on 5% subsample of data\n",
            "Training complete on 6% subsample of data\n",
            "Training complete on 7% subsample of data\n"
          ],
          "name": "stdout"
        },
        {
          "output_type": "stream",
          "text": [
            "/usr/local/lib/python3.6/dist-packages/joblib/externals/loky/process_executor.py:706: UserWarning: A worker stopped while some jobs were given to the executor. This can be caused by a too short worker timeout or by a memory leak.\n",
            "  \"timeout or by a memory leak.\", UserWarning\n"
          ],
          "name": "stderr"
        },
        {
          "output_type": "stream",
          "text": [
            "Training complete on 8% subsample of data\n",
            "Training complete on 9% subsample of data\n",
            "Training complete on 10% subsample of data\n"
          ],
          "name": "stdout"
        },
        {
          "output_type": "display_data",
          "data": {
            "image/png": "[encoded data removed]",
            "text/plain": [
              "<Figure size 432x288 with 2 Axes>"
            ]
          },
          "metadata": {
            "tags": []
          }
        }
      ]
    },
    {
      "cell_type": "markdown",
      "metadata": {
        "id": "gTsEjREOB9f2",
        "colab_type": "text"
      },
      "source": [
        "- Discuss the results. Are they what you expected? Are the model over/underfitting? What does the standard deviation tell you? Do you think you can get better results with more training data?"
      ]
    },
    {
      "cell_type": "markdown",
      "metadata": {
        "id": "EUwH2C13Uduk",
        "colab_type": "text"
      },
      "source": [
        "## 3. Data representation (20 points) "
      ]
    },
    {
      "cell_type": "markdown",
      "metadata": {
        "id": "wpvxfF4xwTz9",
        "colab_type": "text"
      },
      "source": [
        "- Convert the images to grayscale (use the function below). Check whether the conversion is correct by plotting a few of the converted images."
      ]
    },
    {
      "cell_type": "code",
      "metadata": {
        "id": "3alFzKkYwZcD",
        "colab_type": "code",
        "outputId": "27bffdf3-c545-47e6-9b1f-6d7ba990dcc3",
        "colab": {
          "base_uri": "https://localhost:8080/",
          "height": 214
        }
      },
      "source": [
        "import numpy as np\n",
        "\n",
        "def rgb2gray(X, dim=32):\n",
        "    return np.squeeze(np.expand_dims(np.dot(X.reshape(len(X), dim * dim, 3), [0.2990, 0.5870, 0.1140]), axis=3))\n",
        "\n",
        "X_gray = rgb2gray(X)\n",
        "\n",
        "def plot_images(X, y):\n",
        "    fig, axes = plt.subplots(1, len(X),  figsize=(10, 5))\n",
        "    [ax.imshow(X[n].reshape(32, 32)/255, cmap='gray') for n,ax in enumerate(axes)]\n",
        "    [ax.set_title((y[n]+1)) for n,ax in enumerate(axes)]\n",
        "    [ax.axis('off') for ax in axes]\n",
        "    plt.show()\n",
        "\n",
        "plot_images(X_gray[0:5], y[0:5]) #Conversion is correct"
      ],
      "execution_count": 6,
      "outputs": [
        {
          "output_type": "stream",
          "text": [
            "/usr/local/lib/python3.6/dist-packages/ipykernel_launcher.py:4: DeprecationWarning: Both axis > a.ndim and axis < -a.ndim - 1 are deprecated and will raise an AxisError in the future.\n",
            "  after removing the cwd from sys.path.\n"
          ],
          "name": "stderr"
        },
        {
          "output_type": "display_data",
          "data": {
            "image/png": "[encoded data removed]",
            "text/plain": [
              "<Figure size 720x360 with 5 Axes>"
            ]
          },
          "metadata": {
            "tags": []
          }
        }
      ]
    },
    {
      "cell_type": "markdown",
      "metadata": {
        "id": "p7Zhd0KXwf8n",
        "colab_type": "text"
      },
      "source": [
        "- Is the grayscale representation better than the color representation? Does it yield better models? Why (not)? Run the necessary experiments and discuss. For instance, compare the performance of models trained on both representations.\n"
      ]
    },
    {
      "cell_type": "markdown",
      "metadata": {
        "id": "_9tJlnWFwpIN",
        "colab_type": "text"
      },
      "source": [
        "|-------------------------------------------------------------------------------|\n",
        "\n",
        "\n",
        "\n",
        "\n",
        "\n"
      ]
    },
    {
      "cell_type": "code",
      "metadata": {
        "id": "sJ12s-kZwg7d",
        "colab_type": "code",
        "colab": {}
      },
      "source": [
        "# To check the difference in performance, we compare the results of different models with the results obtained in question 1.\n",
        "# Since results of Q1 were already obtained, we simply run the same models as we did in Q1, but now on the grayscale data.\n",
        "# Alongside test accuracy we also generate the training accuracy and standard deviations again as they could provide us with\n",
        "# Some useful insights about the training process.\n",
        "# Also generate a new test split\n",
        "X_gray_90_percent, X_gray_10_percent, y_90_percent, y_10_percent = train_test_split(X_gray, y, test_size=0.1, stratify=y, random_state=47)"
      ],
      "execution_count": 0,
      "outputs": []
    },
    {
      "cell_type": "code",
      "metadata": {
        "id": "-qtMB6dlwqr8",
        "colab_type": "code",
        "outputId": "7fa7a323-4bb7-431d-b4ed-5d06b66972e9",
        "colab": {
          "base_uri": "https://localhost:8080/",
          "height": 85
        }
      },
      "source": [
        "#Initialize default knn classifier\n",
        "knn = KNeighborsClassifier()\n",
        "#Use cross_validate with regular CV (As sample is already stratified, and we were not asked to use StratifiedKfold)\n",
        "scores = cross_validate(knn, X_gray_10_percent, y_10_percent, cv=3, scoring=['accuracy'], return_train_score=True)\n",
        "\n",
        "#Report training accuracy + std, testing accuracy + std\n",
        "print(\"Training accuracy of models {}\".format(scores['train_accuracy']))            #Training accuracy for 3 folds: [0.58388755 0.58951503 0.58417636]\n",
        "print(\"Standard deviation of training accuracies are {}\".format(scores['train_accuracy'].std())) #std over 3 folds: 0.002587437567413254\n",
        "print(\"Testing accuracy of models {}\".format(scores['test_accuracy']))               #Testing accuracy for 3 folds: [0.38182916 0.37190332 0.37295826]\n",
        "print(\"Standard deviation of Training accuracies {}\".format(scores['test_accuracy'].std()))      #std over 3 folds: 0.004451316268125431"
      ],
      "execution_count": 0,
      "outputs": [
        {
          "output_type": "stream",
          "text": [
            "Training accuracy of models [0.58388755 0.58951503 0.58417636]\n",
            "Standard deviation of training accuracies are 0.002587437567413254\n",
            "Testing accuracy of models [0.38182916 0.37190332 0.37295826]\n",
            "Standard deviation of Training accuracies 0.004451316268125431\n"
          ],
          "name": "stdout"
        }
      ]
    },
    {
      "cell_type": "code",
      "metadata": {
        "id": "eqg4yAodwreJ",
        "colab_type": "code",
        "outputId": "2f1c885b-ae00-4eaa-fca3-d5f4a86e6980",
        "colab": {
          "base_uri": "https://localhost:8080/",
          "height": 187
        }
      },
      "source": [
        "#Initialize default support vector machine\n",
        "svc = LinearSVC()\n",
        "#Use cross_validate with regular CV (As sample is already stratified, and we were not asked to use StratifiedKfold)\n",
        "scores = cross_validate(svc, X_gray_10_percent, y_10_percent, cv=3, scoring=['accuracy'], return_train_score=True)\n",
        "\n",
        "#Report training accuracy + std, testing accuracy + std\n",
        "print(\"Training accuracy of models {}\".format(scores['train_accuracy']))            #Training accuracy for 3 folds: [0.20133011 0.12161958 0.26105994]\n",
        "print(\"Standard deviation of training accuracies are {}\".format(scores['train_accuracy'].std())) #std over 3 folds: 0.05712076503282101\n",
        "print(\"Testing accuracy of models {}\".format(scores['test_accuracy']))               #Testing accuracy for 3 folds: [0.13975249 0.08851964 0.13883848]\n",
        "print(\"Standard deviation of Training accuracies {}\".format(scores['test_accuracy'].std()))      #std over 3 folds: 0.023938871417926368"
      ],
      "execution_count": 0,
      "outputs": [
        {
          "output_type": "stream",
          "text": [
            "/usr/local/lib/python3.6/dist-packages/sklearn/svm/base.py:929: ConvergenceWarning: Liblinear failed to converge, increase the number of iterations.\n",
            "  \"the number of iterations.\", ConvergenceWarning)\n",
            "/usr/local/lib/python3.6/dist-packages/sklearn/svm/base.py:929: ConvergenceWarning: Liblinear failed to converge, increase the number of iterations.\n",
            "  \"the number of iterations.\", ConvergenceWarning)\n"
          ],
          "name": "stderr"
        },
        {
          "output_type": "stream",
          "text": [
            "Training accuracy of models [0.21886336 0.15017374 0.27298807]\n",
            "Standard deviation of training accuracies are 0.0502561302222925\n",
            "Testing accuracy of models [0.19076366 0.08429003 0.15184513]\n",
            "Standard deviation of Training accuracies 0.043988605644834984\n"
          ],
          "name": "stdout"
        },
        {
          "output_type": "stream",
          "text": [
            "/usr/local/lib/python3.6/dist-packages/sklearn/svm/base.py:929: ConvergenceWarning: Liblinear failed to converge, increase the number of iterations.\n",
            "  \"the number of iterations.\", ConvergenceWarning)\n"
          ],
          "name": "stderr"
        }
      ]
    },
    {
      "cell_type": "code",
      "metadata": {
        "id": "buIwUfbNwuOt",
        "colab_type": "code",
        "outputId": "55e3d17f-9e72-4598-959c-8bd3202724b5",
        "colab": {
          "base_uri": "https://localhost:8080/",
          "height": 411
        }
      },
      "source": [
        "#Initialize default logistic regression\n",
        "logisticReg = LogisticRegression()\n",
        "#Use cross_validate with regular CV (As sample is already stratified, and we were not asked to use StratifiedKfold)\n",
        "scores = cross_validate(logisticReg, X_gray_10_percent, y_10_percent, cv=3, scoring=['accuracy'], return_train_score=True)\n",
        "\n",
        "#Report training accuracy + std, testing accuracy + std\n",
        "print(\"Training accuracy of models {}\".format(scores['train_accuracy']))            #Training accuracy for 3 folds:\n",
        "print(\"Standard deviation of training accuracies are {}\".format(scores['train_accuracy'].std())) #std over 3 folds:\n",
        "print(\"Testing accuracy of models {}\".format(scores['test_accuracy']))               #Testing accuracy for 3 folds:\n",
        "print(\"Standard deviation of Training accuracies {}\".format(scores['test_accuracy'].std()))      #std over 3 folds:"
      ],
      "execution_count": 0,
      "outputs": [
        {
          "output_type": "stream",
          "text": [
            "/usr/local/lib/python3.6/dist-packages/sklearn/linear_model/logistic.py:432: FutureWarning: Default solver will be changed to 'lbfgs' in 0.22. Specify a solver to silence this warning.\n",
            "  FutureWarning)\n",
            "/usr/local/lib/python3.6/dist-packages/sklearn/linear_model/logistic.py:469: FutureWarning: Default multi_class will be changed to 'auto' in 0.22. Specify the multi_class option to silence this warning.\n",
            "  \"this warning.\", FutureWarning)\n",
            "/usr/local/lib/python3.6/dist-packages/sklearn/svm/base.py:929: ConvergenceWarning: Liblinear failed to converge, increase the number of iterations.\n",
            "  \"the number of iterations.\", ConvergenceWarning)\n",
            "/usr/local/lib/python3.6/dist-packages/sklearn/linear_model/logistic.py:432: FutureWarning: Default solver will be changed to 'lbfgs' in 0.22. Specify a solver to silence this warning.\n",
            "  FutureWarning)\n",
            "/usr/local/lib/python3.6/dist-packages/sklearn/linear_model/logistic.py:469: FutureWarning: Default multi_class will be changed to 'auto' in 0.22. Specify the multi_class option to silence this warning.\n",
            "  \"this warning.\", FutureWarning)\n",
            "/usr/local/lib/python3.6/dist-packages/sklearn/svm/base.py:929: ConvergenceWarning: Liblinear failed to converge, increase the number of iterations.\n",
            "  \"the number of iterations.\", ConvergenceWarning)\n",
            "/usr/local/lib/python3.6/dist-packages/sklearn/linear_model/logistic.py:432: FutureWarning: Default solver will be changed to 'lbfgs' in 0.22. Specify a solver to silence this warning.\n",
            "  FutureWarning)\n",
            "/usr/local/lib/python3.6/dist-packages/sklearn/linear_model/logistic.py:469: FutureWarning: Default multi_class will be changed to 'auto' in 0.22. Specify the multi_class option to silence this warning.\n",
            "  \"this warning.\", FutureWarning)\n"
          ],
          "name": "stderr"
        },
        {
          "output_type": "stream",
          "text": [
            "Training accuracy of models [0.51647521 0.50536335 0.52272384]\n",
            "Standard deviation of training accuracies are 0.0071794893845586565\n",
            "Testing accuracy of models [0.16571084 0.16042296 0.16485178]\n",
            "Standard deviation of Training accuracies 0.002316944266840829\n"
          ],
          "name": "stdout"
        },
        {
          "output_type": "stream",
          "text": [
            "/usr/local/lib/python3.6/dist-packages/sklearn/svm/base.py:929: ConvergenceWarning: Liblinear failed to converge, increase the number of iterations.\n",
            "  \"the number of iterations.\", ConvergenceWarning)\n"
          ],
          "name": "stderr"
        }
      ]
    },
    {
      "cell_type": "markdown",
      "metadata": {
        "id": "N8nP7T4PrszL",
        "colab_type": "text"
      },
      "source": [
        "- Afterwards, normalize the data by substracting the mean of the pixel values from every image and dividing by the standard deviation of every image.\n",
        "  - Note: Do this for every image independently. Don't compute means or standard deviations over the entire training/test set\n",
        "  - Again, check whether you have done it correctly by plotting some of the converted images.\n",
        "  - Is the new representation better? Why (not)? Run the necessary experiments and discuss."
      ]
    },
    {
      "cell_type": "code",
      "metadata": {
        "id": "KhpOoC-rp4b0",
        "colab_type": "code",
        "colab": {}
      },
      "source": [
        "X_90_percent, X_10_percent, y_90_percent, y_10_percent = train_test_split(X, y, test_size=0.1, stratify=y, random_state=47)\n",
        "\n",
        "#First we Normalize the entire X_gray data, \n",
        "def std_function(X_data):\n",
        "    std_array = np.zeros(X_gray.shape)\n",
        "    for counter, value in enumerate(X_10_percent):\n",
        "        std_array[counter] = (X_data[counter] - np.mean(X_data[counter]))/ np.std(X_data[counter])\n",
        "    return std_array\n",
        "\n",
        "X_gray_std = std_function(X_gray)\n",
        "np.save('Standardized grayscale array', X_gray_std)\n",
        "\n",
        "#Generate new (Normalized, grayscaled), with same random_state so the split should be similar to the ones used before. \n",
        "X_gray_std_90_percent, X_gray_std_10_percent, y_90_percent, y_10_percent = train_test_split(X_gray_std, y, test_size=0.1, stratify=y, random_state=47)"
      ],
      "execution_count": 0,
      "outputs": []
    },
    {
      "cell_type": "code",
      "metadata": {
        "id": "L4d5is4-teuN",
        "colab_type": "code",
        "colab": {
          "base_uri": "https://localhost:8080/",
          "height": 160
        },
        "outputId": "0ab318c8-3e79-49c8-904f-d48895bf4cc2"
      },
      "source": [
        "plot_images(X_gray_std[0:5], y[0:5])"
      ],
      "execution_count": 22,
      "outputs": [
        {
          "output_type": "display_data",
          "data": {
            "image/png": "[encoded data removed]",
            "text/plain": [
              "<Figure size 720x360 with 5 Axes>"
            ]
          },
          "metadata": {
            "tags": []
          }
        }
      ]
    },
    {
      "cell_type": "code",
      "metadata": {
        "id": "qISJw8oyrn4V",
        "colab_type": "code",
        "colab": {
          "base_uri": "https://localhost:8080/",
          "height": 85
        },
        "outputId": "d5e658e5-0ffd-41a8-c7e0-9ce6298b4e33"
      },
      "source": [
        "#Initialize default knn classifier\n",
        "knn = KNeighborsClassifier()\n",
        "\n",
        "#Use cross_validate with regular CV (As sample is already stratified, and we were not asked to use StratifiedKfold)\n",
        "scores = cross_validate(knn, X_gray_std_10_percent, y_10_percent, cv=3, scoring=['accuracy'], return_train_score=True)\n",
        "\n",
        "#Report training accuracy + std, testing accuracy + std\n",
        "print(\"Training accuracy of models {}\".format(scores['train_accuracy']))            #Training accuracy for 3 folds: [0.22626965 0.22314549 0.22482259]\n",
        "print(\"Standard deviation of training accuracies are {}\".format(scores['train_accuracy'].std())) #std over 3 folds: 0.0012765845615265684\n",
        "print(\"Testing accuracy of models {}\".format(scores['test_accuracy']))               #Testing accuracy for 3 folds: [0.20464835 0.20151057 0.20205687]\n",
        "print(\"Standard deviation of testing accuracies {}\".format(scores['test_accuracy'].std()))       #std over 3 folds: 0.0013686943501351149"
      ],
      "execution_count": 10,
      "outputs": [
        {
          "output_type": "stream",
          "text": [
            "Training accuracy of models [0.22626965 0.22314549 0.22482259]\n",
            "Standard deviation of training accuracies are 0.0012765845615265684\n",
            "Testing accuracy of models [0.20464835 0.20151057 0.20205687]\n",
            "Standard deviation of testing accuracies 0.0013686943501351149\n"
          ],
          "name": "stdout"
        }
      ]
    },
    {
      "cell_type": "code",
      "metadata": {
        "id": "8RhIzC6HsXTJ",
        "colab_type": "code",
        "colab": {
          "base_uri": "https://localhost:8080/",
          "height": 187
        },
        "outputId": "e0370b82-5e74-42e8-f401-524035679ec5"
      },
      "source": [
        "#Initialize default linear support vector machine\n",
        "svc = LinearSVC()\n",
        "\n",
        "#Use cross_validate with regular CV (As sample is already stratified, and we were not asked to use StratifiedKfold)\n",
        "scores = cross_validate(svc, X_gray_std_10_percent, y_10_percent, cv=3, scoring=['accuracy'], return_train_score=True)\n",
        "\n",
        "#Report training accuracy + std, testing accuracy + std\n",
        "print(\"Training accuracy of models {}\".format(scores['train_accuracy']))            #Training accuracy for 3 folds: [0.27010278 0.26363499 0.26891137]\n",
        "print(\"Standard deviation of training accuracies are {}\".format(scores['train_accuracy'].std())) #std over 3 folds: 0.0028105349438494647\n",
        "print(\"Testing accuracy of models {}\".format(scores['test_accuracy']))               #Testing accuracy for 3 folds: [0.18442499 0.18126888 0.18602541]\n",
        "print(\"Standard deviation of testing accuracies {}\".format(scores['test_accuracy'].std()))       #std over 3 folds: 0.0019761608223900695"
      ],
      "execution_count": 11,
      "outputs": [
        {
          "output_type": "stream",
          "text": [
            "/usr/local/lib/python3.6/dist-packages/sklearn/svm/base.py:929: ConvergenceWarning: Liblinear failed to converge, increase the number of iterations.\n",
            "  \"the number of iterations.\", ConvergenceWarning)\n",
            "/usr/local/lib/python3.6/dist-packages/sklearn/svm/base.py:929: ConvergenceWarning: Liblinear failed to converge, increase the number of iterations.\n",
            "  \"the number of iterations.\", ConvergenceWarning)\n"
          ],
          "name": "stderr"
        },
        {
          "output_type": "stream",
          "text": [
            "Training accuracy of models [0.27055623 0.26333283 0.26921335]\n",
            "Standard deviation of training accuracies are 0.003136900231944167\n",
            "Testing accuracy of models [0.18472683 0.18187311 0.18632789]\n",
            "Standard deviation of testing accuracies 0.001842466435379235\n"
          ],
          "name": "stdout"
        },
        {
          "output_type": "stream",
          "text": [
            "/usr/local/lib/python3.6/dist-packages/sklearn/svm/base.py:929: ConvergenceWarning: Liblinear failed to converge, increase the number of iterations.\n",
            "  \"the number of iterations.\", ConvergenceWarning)\n"
          ],
          "name": "stderr"
        }
      ]
    },
    {
      "cell_type": "code",
      "metadata": {
        "id": "3GggsNnwsbfz",
        "colab_type": "code",
        "colab": {
          "base_uri": "https://localhost:8080/",
          "height": 309
        },
        "outputId": "dee8887b-272f-494b-9363-0ff1486af145"
      },
      "source": [
        "#Initialize default logistic regression\n",
        "logisticReg = LogisticRegression()\n",
        "\n",
        "#Use cross_validate with regular CV (As sample is already stratified, and we were not asked to use StratifiedKfold)\n",
        "scores = cross_validate(logisticReg, X_gray_std_10_percent, y_10_percent, cv=3, scoring=['accuracy'], return_train_score=True)\n",
        "\n",
        "#Report training accuracy + std, testing accuracy + std\n",
        "print(\"Training accuracy of models {}\".format(scores['train_accuracy']))            #Training accuracy for 3 folds: [0.26647521 0.26227527 0.26725049]\n",
        "print(\"Standard deviation of training accuracies are {}\".format(scores['train_accuracy'].std())) #std over 3 folds: 0.0021856456454752266\n",
        "print(\"Testing accuracy of models {}\".format(scores['test_accuracy']))               #Testing accuracy for 3 folds: [0.18563236 0.181571   0.18663037]\n",
        "print(\"Standard deviation of testing accuracies {}\".format(scores['test_accuracy'].std()))       #std over 3 folds: 0.0021880463397819902"
      ],
      "execution_count": 13,
      "outputs": [
        {
          "output_type": "stream",
          "text": [
            "/usr/local/lib/python3.6/dist-packages/sklearn/linear_model/logistic.py:432: FutureWarning: Default solver will be changed to 'lbfgs' in 0.22. Specify a solver to silence this warning.\n",
            "  FutureWarning)\n",
            "/usr/local/lib/python3.6/dist-packages/sklearn/linear_model/logistic.py:469: FutureWarning: Default multi_class will be changed to 'auto' in 0.22. Specify the multi_class option to silence this warning.\n",
            "  \"this warning.\", FutureWarning)\n",
            "/usr/local/lib/python3.6/dist-packages/sklearn/linear_model/logistic.py:432: FutureWarning: Default solver will be changed to 'lbfgs' in 0.22. Specify a solver to silence this warning.\n",
            "  FutureWarning)\n",
            "/usr/local/lib/python3.6/dist-packages/sklearn/linear_model/logistic.py:469: FutureWarning: Default multi_class will be changed to 'auto' in 0.22. Specify the multi_class option to silence this warning.\n",
            "  \"this warning.\", FutureWarning)\n",
            "/usr/local/lib/python3.6/dist-packages/sklearn/linear_model/logistic.py:432: FutureWarning: Default solver will be changed to 'lbfgs' in 0.22. Specify a solver to silence this warning.\n",
            "  FutureWarning)\n",
            "/usr/local/lib/python3.6/dist-packages/sklearn/linear_model/logistic.py:469: FutureWarning: Default multi_class will be changed to 'auto' in 0.22. Specify the multi_class option to silence this warning.\n",
            "  \"this warning.\", FutureWarning)\n"
          ],
          "name": "stderr"
        },
        {
          "output_type": "stream",
          "text": [
            "Training accuracy of models [0.26647521 0.26227527 0.26725049]\n",
            "Standard deviation of training accuracies are 0.0021856456454752266\n",
            "Testing accuracy of models [0.18563236 0.181571   0.18663037]\n",
            "Standard deviation of testing accuracies 0.0021880463397819902\n"
          ],
          "name": "stdout"
        }
      ]
    },
    {
      "cell_type": "markdown",
      "metadata": {
        "id": "U8r6jXd5u5em",
        "colab_type": "text"
      },
      "source": [
        "- Finally, run PCA (Principal Component Analysis) on the data and see if that gives you a better (lower-dimensional) representation. Note that you need to use a pipeline here to avoid data leakage between your training and test set (see Tutorial 3).\n",
        "  - Try different numbers of components or use a solver to guess the optimal number of components\n",
        "  - Is the new representation better? Why (not)? Run the necessary experiments and discuss."
      ]
    },
    {
      "cell_type": "code",
      "metadata": {
        "id": "isqNSnDuu_BE",
        "colab_type": "code",
        "colab": {}
      },
      "source": [
        "#Initialize default knn classifier\n",
        "knn = KNeighborsClassifier()\n",
        "\n",
        "#Create pipeline with PCA, and use a solver to guess optimal number of dimensions. \n",
        "pipeline= Pipeline([(\"PCA\", PCA(n_components='mle', svd_solver='full')), (\"knn\", KNeighborsClassifier())])\n",
        "\n",
        "scores = cross_validate(pipeline, X_gray_std_10_percent, y_10_percent, cv=3, scoring=['accuracy'], return_train_score=True)\n",
        "print(pipeline.named_steps[\"PCA\"].n_components_) #\n",
        "print(\"Training accuracy of models {}\".format(scores['train_accuracy']))            #Training accuracy for 3 folds:\n",
        "print(\"Standard deviation of training accuracies are {}\".format(scores['train_accuracy'].std())) #std over 3 folds:\n",
        "print(\"Testing accuracy of models {}\".format(scores['test_accuracy']))               #Testing accuracy for 3 folds:\n",
        "print(\"Standard deviation of Training accuracies {}\".format(scores['test_accuracy'].std()))      #std over 3 folds"
      ],
      "execution_count": 0,
      "outputs": []
    },
    {
      "cell_type": "code",
      "metadata": {
        "id": "WRdUnYohvm8K",
        "colab_type": "code",
        "colab": {
          "base_uri": "https://localhost:8080/",
          "height": 231
        },
        "outputId": "0e5c4551-2647-4b8a-8fdd-b5fc1b3902ca"
      },
      "source": [
        "#Initialize default linear support vector machine\n",
        "svc = LinearSVC()\n",
        "#(\"svm\", LinearSVC())\n",
        "#(\"logistigReg\", LogisticRegression())\n",
        "#(\"knn\", \"KNeighborsClassifier())\n",
        "\n",
        "#Create pipeline with PCA, and use a solver to guess optimal number of dimensions. \n",
        "pipeline= Pipeline([(\"PCA\", PCA(n_components='mle', svd_solver='full')), (\"svm\", LinearSVC())])\n",
        "\n",
        "scores = cross_validate(pipeline, X_gray_std_10_percent, y_10_percent, cv=3, scoring=['accuracy'], return_train_score=True)\n",
        "\n",
        "print(pipeline.named_steps[\"PCA\"].n_components_) #\n",
        "print(\"Training accuracy of models {}\".format(scores['train_accuracy']))            #Training accuracy for 3 folds:\n",
        "print(\"Standard deviation of training accuracies are {}\".format(scores['train_accuracy'].std())) #std over 3 folds:\n",
        "print(\"Testing accuracy of models {}\".format(scores['test_accuracy']))               #Testing accuracy for 3 folds:\n",
        "print(\"Standard deviation of Training accuracies {}\".format(scores['test_accuracy'].std()))      #std over 3 folds:"
      ],
      "execution_count": 70,
      "outputs": [
        {
          "output_type": "error",
          "ename": "AttributeError",
          "evalue": "ignored",
          "traceback": [
            "\u001b[0;31m---------------------------------------------------------------------------\u001b[0m",
            "\u001b[0;31mAttributeError\u001b[0m                            Traceback (most recent call last)",
            "\u001b[0;32m<ipython-input-70-1c862e273cff>\u001b[0m in \u001b[0;36m<module>\u001b[0;34m()\u001b[0m\n\u001b[1;32m      9\u001b[0m \u001b[0mscores\u001b[0m \u001b[0;34m=\u001b[0m \u001b[0mcross_validate\u001b[0m\u001b[0;34m(\u001b[0m\u001b[0mpipeline\u001b[0m\u001b[0;34m,\u001b[0m \u001b[0mX_gray_std_10_percent\u001b[0m\u001b[0;34m,\u001b[0m \u001b[0my_10_percent\u001b[0m\u001b[0;34m,\u001b[0m \u001b[0mcv\u001b[0m\u001b[0;34m=\u001b[0m\u001b[0;36m3\u001b[0m\u001b[0;34m,\u001b[0m \u001b[0mscoring\u001b[0m\u001b[0;34m=\u001b[0m\u001b[0;34m[\u001b[0m\u001b[0;34m'accuracy'\u001b[0m\u001b[0;34m]\u001b[0m\u001b[0;34m,\u001b[0m \u001b[0mreturn_train_score\u001b[0m\u001b[0;34m=\u001b[0m\u001b[0;32mTrue\u001b[0m\u001b[0;34m)\u001b[0m\u001b[0;34m\u001b[0m\u001b[0;34m\u001b[0m\u001b[0m\n\u001b[1;32m     10\u001b[0m \u001b[0;34m\u001b[0m\u001b[0m\n\u001b[0;32m---> 11\u001b[0;31m \u001b[0mprint\u001b[0m\u001b[0;34m(\u001b[0m\u001b[0mpipeline\u001b[0m\u001b[0;34m.\u001b[0m\u001b[0mnamed_steps\u001b[0m\u001b[0;34m[\u001b[0m\u001b[0;34m\"PCA\"\u001b[0m\u001b[0;34m]\u001b[0m\u001b[0;34m.\u001b[0m\u001b[0mn_components_\u001b[0m\u001b[0;34m)\u001b[0m \u001b[0;31m#\u001b[0m\u001b[0;34m\u001b[0m\u001b[0;34m\u001b[0m\u001b[0m\n\u001b[0m\u001b[1;32m     12\u001b[0m \u001b[0mprint\u001b[0m\u001b[0;34m(\u001b[0m\u001b[0;34m\"Training accuracy of models {}\"\u001b[0m\u001b[0;34m.\u001b[0m\u001b[0mformat\u001b[0m\u001b[0;34m(\u001b[0m\u001b[0mscores\u001b[0m\u001b[0;34m[\u001b[0m\u001b[0;34m'train_accuracy'\u001b[0m\u001b[0;34m]\u001b[0m\u001b[0;34m)\u001b[0m\u001b[0;34m)\u001b[0m            \u001b[0;31m#Training accuracy for 3 folds:\u001b[0m\u001b[0;34m\u001b[0m\u001b[0;34m\u001b[0m\u001b[0m\n\u001b[1;32m     13\u001b[0m \u001b[0mprint\u001b[0m\u001b[0;34m(\u001b[0m\u001b[0;34m\"Standard deviation of training accuracies are {}\"\u001b[0m\u001b[0;34m.\u001b[0m\u001b[0mformat\u001b[0m\u001b[0;34m(\u001b[0m\u001b[0mscores\u001b[0m\u001b[0;34m[\u001b[0m\u001b[0;34m'train_accuracy'\u001b[0m\u001b[0;34m]\u001b[0m\u001b[0;34m.\u001b[0m\u001b[0mstd\u001b[0m\u001b[0;34m(\u001b[0m\u001b[0;34m)\u001b[0m\u001b[0;34m)\u001b[0m\u001b[0;34m)\u001b[0m \u001b[0;31m#std over 3 folds:\u001b[0m\u001b[0;34m\u001b[0m\u001b[0;34m\u001b[0m\u001b[0m\n",
            "\u001b[0;31mAttributeError\u001b[0m: 'PCA' object has no attribute 'n_components_'"
          ]
        }
      ]
    },
    {
      "cell_type": "code",
      "metadata": {
        "id": "F-oCH5btvn2i",
        "colab_type": "code",
        "colab": {}
      },
      "source": [
        "#Initialize default logistic regression\n",
        "logisticReg = LogisticRegression()\n",
        "\n",
        "#Create pipeline with PCA, and use a solver to guess optimal number of dimensions. \n",
        "pipeline= Pipeline([(\"PCA\", PCA(n_components='mle', svd_solver='full')), (\"logistigReg\", LogisticRegression())])\n",
        "\n",
        "scores = cross_validate(pipeline, X_gray_std_10_percent, y_10_percent, cv=3, scoring=['accuracy'], return_train_score=True)\n",
        "\n",
        "print(pipeline.named_steps[\"PCA\"].n_components_) #\n",
        "print(\"Training accuracy of models {}\".format(scores['train_accuracy']))            #Training accuracy for 3 folds:\n",
        "print(\"Standard deviation of training accuracies are {}\".format(scores['train_accuracy'].std())) #std over 3 folds:\n",
        "print(\"Testing accuracy of models {}\".format(scores['test_accuracy']))               #Testing accuracy for 3 folds:\n",
        "print(\"Standard deviation of Training accuracies {}\".format(scores['test_accuracy'].std()))      #std over 3 folds:"
      ],
      "execution_count": 0,
      "outputs": []
    },
    {
      "cell_type": "markdown",
      "metadata": {
        "id": "lRrPbvQDvuIT",
        "colab_type": "text"
      },
      "source": [
        "## 4. Regularization (20 points) {-}"
      ]
    },
    {
      "cell_type": "markdown",
      "metadata": {
        "id": "bkNspXAAwTMq",
        "colab_type": "text"
      },
      "source": [
        "- Tune the algorithm's main regularization hyperparameter on the 10% stratified subsample using the normalized grayscale representation. These are the misclassification cost in SVMs (C), the regularization parameter in logistic regression (C), and the number of neighbors (n_neighbors) in kNN.\n",
        "\n",
        "- We expect the optimum for the C parameters to lie in $[10^{-12},10^{12}] and for n_neighbors between 1 and 50. C should be varied logarithmically, n_neighbors linearly.\n",
        "- Run a grid search over these ranges, using 3-fold cross-valdation, and plot both the training and test error. Start with a coarse grid (e.g. 5 values per hyperparameter), use a finer grid for the 'interesting' regions (where performance changes) if training time allows.\n",
        "- Plot the effect of every one of the hyperparameters (both the training and test score). Discuss the plots. For which values is the model over/underfitting? Is there a sweet spot?\n",
        "- Evaluate the optimized models (the best hyperparameter settings) on the rest of the (unseen) data and discuss your findings. Do the results generalize? If not, what can/ should you do? Discuss. Run additional experiments if it helps you confirm your claims."
      ]
    },
    {
      "cell_type": "code",
      "metadata": {
        "id": "pVLwIcWgv64L",
        "colab_type": "code",
        "colab": {}
      },
      "source": [
        "#Initialize knn classifier\n",
        "knn = KNeighborsClassifier(n_neighbors)\n",
        "\n",
        "#Use cross_validate with regular CV (As sample is already stratified, and we were not asked to use StratifiedKfold)\n",
        "scores = cross_validate(knn, X_gray_std_10_percent, y_10_percent, cv=3, scoring=['accuracy'], return_train_score=True)\n",
        "\n",
        "#Report training accuracy + std, testing accuracy + std\n",
        "print(\"Training accuracy of models {}\".format(scores['train_accuracy']))            #Training accuracy for 3 folds: [0.22626965 0.22314549 0.22482259]\n",
        "print(\"Standard deviation of training accuracies are {}\".format(scores['train_accuracy'].std())) #std over 3 folds: 0.0012765845615265684\n",
        "print(\"Testing accuracy of models {}\".format(scores['test_accuracy']))               #Testing accuracy for 3 folds: [0.20464835 0.20151057 0.20205687]\n",
        "\n",
        "print(\"Standard deviation of testing accuracies {}\".format(scores['test_accuracy'].std()))       #std over 3 folds: 0.0013686943501351149"
      ],
      "execution_count": 0,
      "outputs": []
    },
    {
      "cell_type": "code",
      "metadata": {
        "id": "vZNh2mJL2gf9",
        "colab_type": "code",
        "colab": {
          "base_uri": "https://localhost:8080/",
          "height": 34
        },
        "outputId": "4466f6c9-d6a1-40e5-e20e-a91994a620f7"
      },
      "source": [
        "import warnings\n",
        "warnings.filterwarnings('ignore')\n",
        "\n",
        "#Generate new (Normalized, grayscaled), with same random_state so the split should be similar to the ones used before. \n",
        "X_gray_std_90_percent, X_gray_std_10_percent, y_90_percent, y_10_percent = train_test_split(X_gray_std, y, test_size=0.1, stratify=y, random_state=47)\n",
        "\n",
        "X_gray_train, X_gray_test, y_gray_train, y_gray_test = train_test_split(X_gray_std_10_percent, y_10_percent, test_size=0.3, stratify=y_10_percent, random_state=47)\n",
        "\n",
        "\n",
        "# Set the parameters by cross-validation\n",
        "tuned_parameters = [{'C': [1, 10, 100, 1000]}]\n",
        "\n",
        "svc = LinearSVC()\n",
        "\n",
        "clf = GridSearchCV(svc, tuned_parameters, cv=3, scoring='f1_macro')\n",
        "clf.fit(X_gray_train, y_gray_train)\n",
        "\n",
        "print(clf.best_params_)"
      ],
      "execution_count": 58,
      "outputs": [
        {
          "output_type": "stream",
          "text": [
            "{'C': 1}\n"
          ],
          "name": "stdout"
        }
      ]
    },
    {
      "cell_type": "code",
      "metadata": {
        "id": "0RkdkazIBWM9",
        "colab_type": "code",
        "colab": {
          "base_uri": "https://localhost:8080/",
          "height": 1000
        },
        "outputId": "1ecf417a-5f66-4799-888e-759bb2825f1a"
      },
      "source": [
        "means = clf.cv_results_['mean_test_score']\n",
        "stds = clf.cv_results_['std_test_score']\n",
        "for mean, std, params in zip(means, stds, clf.cv_results_['params']):\n",
        "    print(\"%0.3f (+/-%0.03f) for %r\" % (mean, std * 2, params))\n",
        "    print(\"Detailed classification report:\")\n",
        "    y_true, y_pred = y_gray_test, clf.predict(X_gray_test)\n",
        "    print(classification_report(y_true, y_pred))"
      ],
      "execution_count": 63,
      "outputs": [
        {
          "output_type": "stream",
          "text": [
            "0.049 (+/-0.004) for {'C': 1}\n",
            "Detailed classification report:\n",
            "              precision    recall  f1-score   support\n",
            "\n",
            "           1       0.19      0.93      0.32       569\n",
            "           2       0.26      0.02      0.05       442\n",
            "           3       0.05      0.01      0.01       342\n",
            "           4       0.24      0.02      0.04       299\n",
            "           5       0.14      0.01      0.02       278\n",
            "           6       0.00      0.00      0.00       231\n",
            "           7       0.27      0.02      0.03       228\n",
            "           8       0.09      0.01      0.02       201\n",
            "           9       0.00      0.00      0.00       188\n",
            "          10       0.07      0.00      0.01       201\n",
            "\n",
            "    accuracy                           0.19      2979\n",
            "   macro avg       0.13      0.10      0.05      2979\n",
            "weighted avg       0.15      0.19      0.08      2979\n",
            "\n",
            "0.048 (+/-0.005) for {'C': 10}\n",
            "Detailed classification report:\n",
            "              precision    recall  f1-score   support\n",
            "\n",
            "           1       0.19      0.93      0.32       569\n",
            "           2       0.26      0.02      0.05       442\n",
            "           3       0.05      0.01      0.01       342\n",
            "           4       0.24      0.02      0.04       299\n",
            "           5       0.14      0.01      0.02       278\n",
            "           6       0.00      0.00      0.00       231\n",
            "           7       0.27      0.02      0.03       228\n",
            "           8       0.09      0.01      0.02       201\n",
            "           9       0.00      0.00      0.00       188\n",
            "          10       0.07      0.00      0.01       201\n",
            "\n",
            "    accuracy                           0.19      2979\n",
            "   macro avg       0.13      0.10      0.05      2979\n",
            "weighted avg       0.15      0.19      0.08      2979\n",
            "\n",
            "0.049 (+/-0.003) for {'C': 100}\n",
            "Detailed classification report:\n",
            "              precision    recall  f1-score   support\n",
            "\n",
            "           1       0.19      0.93      0.32       569\n",
            "           2       0.26      0.02      0.05       442\n",
            "           3       0.05      0.01      0.01       342\n",
            "           4       0.24      0.02      0.04       299\n",
            "           5       0.14      0.01      0.02       278\n",
            "           6       0.00      0.00      0.00       231\n",
            "           7       0.27      0.02      0.03       228\n",
            "           8       0.09      0.01      0.02       201\n",
            "           9       0.00      0.00      0.00       188\n",
            "          10       0.07      0.00      0.01       201\n",
            "\n",
            "    accuracy                           0.19      2979\n",
            "   macro avg       0.13      0.10      0.05      2979\n",
            "weighted avg       0.15      0.19      0.08      2979\n",
            "\n",
            "0.044 (+/-0.012) for {'C': 1000}\n",
            "Detailed classification report:\n",
            "              precision    recall  f1-score   support\n",
            "\n",
            "           1       0.19      0.93      0.32       569\n",
            "           2       0.26      0.02      0.05       442\n",
            "           3       0.05      0.01      0.01       342\n",
            "           4       0.24      0.02      0.04       299\n",
            "           5       0.14      0.01      0.02       278\n",
            "           6       0.00      0.00      0.00       231\n",
            "           7       0.27      0.02      0.03       228\n",
            "           8       0.09      0.01      0.02       201\n",
            "           9       0.00      0.00      0.00       188\n",
            "          10       0.07      0.00      0.01       201\n",
            "\n",
            "    accuracy                           0.19      2979\n",
            "   macro avg       0.13      0.10      0.05      2979\n",
            "weighted avg       0.15      0.19      0.08      2979\n",
            "\n"
          ],
          "name": "stdout"
        }
      ]
    },
    {
      "cell_type": "code",
      "metadata": {
        "id": "TWlyLX8vWHBH",
        "colab_type": "code",
        "colab": {
          "base_uri": "https://localhost:8080/",
          "height": 34
        },
        "outputId": "e41b135d-afc0-422d-8409-eae97468ee79"
      },
      "source": [
        "logisticReg = LogisticRegression()\n",
        "\n",
        "import warnings\n",
        "warnings.filterwarnings('ignore')\n",
        "\n",
        "# Set the parameters by cross-validation\n",
        "tuned_parameters = [{'C': [1, 10, 100, 1000]}]\n",
        "\n",
        "clf = GridSearchCV(logisticReg, tuned_parameters, cv=3, scoring='f1_macro')\n",
        "clf.fit(X_gray_train, y_gray_train)\n",
        "\n",
        "print(clf.best_params_)"
      ],
      "execution_count": 64,
      "outputs": [
        {
          "output_type": "stream",
          "text": [
            "{'C': 1}\n"
          ],
          "name": "stdout"
        }
      ]
    },
    {
      "cell_type": "code",
      "metadata": {
        "id": "0KmtgW1vmO-j",
        "colab_type": "code",
        "colab": {
          "base_uri": "https://localhost:8080/",
          "height": 1000
        },
        "outputId": "6be8c3cb-d6e7-4828-d1f8-059de548bc2c"
      },
      "source": [
        "means = clf.cv_results_['mean_test_score']\n",
        "stds = clf.cv_results_['std_test_score']\n",
        "for mean, std, params in zip(means, stds, clf.cv_results_['params']):\n",
        "    print(\"%0.3f (+/-%0.03f) for %r\" % (mean, std * 2, params))\n",
        "    print(\"Detailed classification report:\")\n",
        "    y_true, y_pred = y_gray_test, clf.predict(X_gray_test)\n",
        "    print(classification_report(y_true, y_pred))"
      ],
      "execution_count": 67,
      "outputs": [
        {
          "output_type": "stream",
          "text": [
            "0.050 (+/-0.005) for {'C': 1}\n",
            "Detailed classification report:\n",
            "              precision    recall  f1-score   support\n",
            "\n",
            "           1       0.19      0.93      0.32       569\n",
            "           2       0.23      0.02      0.04       442\n",
            "           3       0.08      0.01      0.02       342\n",
            "           4       0.35      0.03      0.05       299\n",
            "           5       0.11      0.01      0.02       278\n",
            "           6       0.00      0.00      0.00       231\n",
            "           7       0.25      0.03      0.05       228\n",
            "           8       0.06      0.00      0.01       201\n",
            "           9       0.00      0.00      0.00       188\n",
            "          10       0.12      0.01      0.02       201\n",
            "\n",
            "    accuracy                           0.19      2979\n",
            "   macro avg       0.14      0.10      0.05      2979\n",
            "weighted avg       0.16      0.19      0.08      2979\n",
            "\n",
            "0.048 (+/-0.006) for {'C': 10}\n",
            "Detailed classification report:\n",
            "              precision    recall  f1-score   support\n",
            "\n",
            "           1       0.19      0.93      0.32       569\n",
            "           2       0.23      0.02      0.04       442\n",
            "           3       0.08      0.01      0.02       342\n",
            "           4       0.35      0.03      0.05       299\n",
            "           5       0.11      0.01      0.02       278\n",
            "           6       0.00      0.00      0.00       231\n",
            "           7       0.25      0.03      0.05       228\n",
            "           8       0.06      0.00      0.01       201\n",
            "           9       0.00      0.00      0.00       188\n",
            "          10       0.12      0.01      0.02       201\n",
            "\n",
            "    accuracy                           0.19      2979\n",
            "   macro avg       0.14      0.10      0.05      2979\n",
            "weighted avg       0.16      0.19      0.08      2979\n",
            "\n",
            "0.049 (+/-0.006) for {'C': 100}\n",
            "Detailed classification report:\n",
            "              precision    recall  f1-score   support\n",
            "\n",
            "           1       0.19      0.93      0.32       569\n",
            "           2       0.23      0.02      0.04       442\n",
            "           3       0.08      0.01      0.02       342\n",
            "           4       0.35      0.03      0.05       299\n",
            "           5       0.11      0.01      0.02       278\n",
            "           6       0.00      0.00      0.00       231\n",
            "           7       0.25      0.03      0.05       228\n",
            "           8       0.06      0.00      0.01       201\n",
            "           9       0.00      0.00      0.00       188\n",
            "          10       0.12      0.01      0.02       201\n",
            "\n",
            "    accuracy                           0.19      2979\n",
            "   macro avg       0.14      0.10      0.05      2979\n",
            "weighted avg       0.16      0.19      0.08      2979\n",
            "\n",
            "0.049 (+/-0.007) for {'C': 1000}\n",
            "Detailed classification report:\n",
            "              precision    recall  f1-score   support\n",
            "\n",
            "           1       0.19      0.93      0.32       569\n",
            "           2       0.23      0.02      0.04       442\n",
            "           3       0.08      0.01      0.02       342\n",
            "           4       0.35      0.03      0.05       299\n",
            "           5       0.11      0.01      0.02       278\n",
            "           6       0.00      0.00      0.00       231\n",
            "           7       0.25      0.03      0.05       228\n",
            "           8       0.06      0.00      0.01       201\n",
            "           9       0.00      0.00      0.00       188\n",
            "          10       0.12      0.01      0.02       201\n",
            "\n",
            "    accuracy                           0.19      2979\n",
            "   macro avg       0.14      0.10      0.05      2979\n",
            "weighted avg       0.16      0.19      0.08      2979\n",
            "\n"
          ],
          "name": "stdout"
        }
      ]
    },
    {
      "cell_type": "code",
      "metadata": {
        "id": "mSrC755eiPA6",
        "colab_type": "code",
        "colab": {
          "base_uri": "https://localhost:8080/",
          "height": 85
        },
        "outputId": "68c72cb8-d90d-448c-b228-82a65446575e"
      },
      "source": [
        "import warnings\n",
        "warnings.filterwarnings('ignore')\n",
        "\n",
        "grid_params = {'n_neighbors': [3,5,11,19]}\n",
        "\n",
        "gs_clf = GridSearchCV(KNeighborsClassifier(), grid_params, verbose = 1, cv = 3, n_jobs = -1)\n",
        "\n",
        "gs_clf.fit(X_gray_train, y_gray_train)\n",
        "\n",
        "print(gs_clf.best_params_)"
      ],
      "execution_count": 66,
      "outputs": [
        {
          "output_type": "stream",
          "text": [
            "Fitting 3 folds for each of 4 candidates, totalling 12 fits\n"
          ],
          "name": "stdout"
        },
        {
          "output_type": "stream",
          "text": [
            "[Parallel(n_jobs=-1)]: Using backend LokyBackend with 4 concurrent workers.\n",
            "[Parallel(n_jobs=-1)]: Done  12 out of  12 | elapsed:  1.8min finished\n"
          ],
          "name": "stderr"
        },
        {
          "output_type": "stream",
          "text": [
            "{'n_neighbors': 5}\n"
          ],
          "name": "stdout"
        }
      ]
    },
    {
      "cell_type": "code",
      "metadata": {
        "id": "opkfhDrzmULh",
        "colab_type": "code",
        "colab": {
          "base_uri": "https://localhost:8080/",
          "height": 1000
        },
        "outputId": "5198c82e-be6c-40ea-a3a7-90fcb356bae8"
      },
      "source": [
        "means = gs_clf.cv_results_['mean_test_score']\n",
        "stds = gs_clf.cv_results_['std_test_score']\n",
        "for mean, std, params in zip(means, stds, gs_clf.cv_results_['params']):\n",
        "    print(\"%0.3f (+/-%0.03f) for %r\" % (mean, std * 2, params))\n",
        "    print(\"Detailed classification report:\")\n",
        "    y_true, y_pred = y_gray_test, gs_clf.predict(X_gray_test)\n",
        "    print(classification_report(y_true, y_pred))"
      ],
      "execution_count": 69,
      "outputs": [
        {
          "output_type": "stream",
          "text": [
            "0.144 (+/-0.084) for {'n_neighbors': 3}\n",
            "Detailed classification report:\n",
            "              precision    recall  f1-score   support\n",
            "\n",
            "           1       0.20      0.99      0.33       569\n",
            "           2       0.36      0.04      0.07       442\n",
            "           3       0.22      0.02      0.03       342\n",
            "           4       0.71      0.03      0.06       299\n",
            "           5       0.36      0.01      0.03       278\n",
            "           6       0.12      0.01      0.02       231\n",
            "           7       0.33      0.00      0.01       228\n",
            "           8       0.04      0.00      0.01       201\n",
            "           9       0.14      0.01      0.01       188\n",
            "          10       0.54      0.03      0.07       201\n",
            "\n",
            "    accuracy                           0.20      2979\n",
            "   macro avg       0.30      0.11      0.06      2979\n",
            "weighted avg       0.31      0.20      0.09      2979\n",
            "\n",
            "0.201 (+/-0.007) for {'n_neighbors': 5}\n",
            "Detailed classification report:\n",
            "              precision    recall  f1-score   support\n",
            "\n",
            "           1       0.20      0.99      0.33       569\n",
            "           2       0.36      0.04      0.07       442\n",
            "           3       0.22      0.02      0.03       342\n",
            "           4       0.71      0.03      0.06       299\n",
            "           5       0.36      0.01      0.03       278\n",
            "           6       0.12      0.01      0.02       231\n",
            "           7       0.33      0.00      0.01       228\n",
            "           8       0.04      0.00      0.01       201\n",
            "           9       0.14      0.01      0.01       188\n",
            "          10       0.54      0.03      0.07       201\n",
            "\n",
            "    accuracy                           0.20      2979\n",
            "   macro avg       0.30      0.11      0.06      2979\n",
            "weighted avg       0.31      0.20      0.09      2979\n",
            "\n",
            "0.176 (+/-0.060) for {'n_neighbors': 11}\n",
            "Detailed classification report:\n",
            "              precision    recall  f1-score   support\n",
            "\n",
            "           1       0.20      0.99      0.33       569\n",
            "           2       0.36      0.04      0.07       442\n",
            "           3       0.22      0.02      0.03       342\n",
            "           4       0.71      0.03      0.06       299\n",
            "           5       0.36      0.01      0.03       278\n",
            "           6       0.12      0.01      0.02       231\n",
            "           7       0.33      0.00      0.01       228\n",
            "           8       0.04      0.00      0.01       201\n",
            "           9       0.14      0.01      0.01       188\n",
            "          10       0.54      0.03      0.07       201\n",
            "\n",
            "    accuracy                           0.20      2979\n",
            "   macro avg       0.30      0.11      0.06      2979\n",
            "weighted avg       0.31      0.20      0.09      2979\n",
            "\n",
            "0.198 (+/-0.003) for {'n_neighbors': 19}\n",
            "Detailed classification report:\n",
            "              precision    recall  f1-score   support\n",
            "\n",
            "           1       0.20      0.99      0.33       569\n",
            "           2       0.36      0.04      0.07       442\n",
            "           3       0.22      0.02      0.03       342\n",
            "           4       0.71      0.03      0.06       299\n",
            "           5       0.36      0.01      0.03       278\n",
            "           6       0.12      0.01      0.02       231\n",
            "           7       0.33      0.00      0.01       228\n",
            "           8       0.04      0.00      0.01       201\n",
            "           9       0.14      0.01      0.01       188\n",
            "          10       0.54      0.03      0.07       201\n",
            "\n",
            "    accuracy                           0.20      2979\n",
            "   macro avg       0.30      0.11      0.06      2979\n",
            "weighted avg       0.31      0.20      0.09      2979\n",
            "\n"
          ],
          "name": "stdout"
        }
      ]
    }
  ]
}